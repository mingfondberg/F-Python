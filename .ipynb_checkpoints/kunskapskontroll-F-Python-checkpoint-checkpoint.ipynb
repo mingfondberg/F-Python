{
 "cells": [
  {
   "cell_type": "markdown",
   "id": "a33bb8c0",
   "metadata": {},
   "source": [
    "# Kunskapskontroll 1 – Fördjupad Pythonprogrammering"
   ]
  },
  {
   "cell_type": "markdown",
   "id": "667567e2",
   "metadata": {},
   "source": [
    "# Fråga 1 I Python så kan man skapa grafiska användargränssnitt (GUI = Graphical User Interface). Ett sådant exempel där biblioteket ”tkinter” används kan du se i mappen ”csv_viewer”. Granska koden, förstå vad som sker och skriv kort ned vad programmet gör.\n",
    "\n"
   ]
  },
  {
   "cell_type": "code",
   "execution_count": 114,
   "id": "e03bf03f",
   "metadata": {},
   "outputs": [],
   "source": [
    "import pandas as pd\n",
    "import tkinter as tk\n",
    "from tkinter import ttk, filedialog, messagebox"
   ]
  },
  {
   "cell_type": "code",
   "execution_count": 116,
   "id": "b384ec64",
   "metadata": {},
   "outputs": [],
   "source": [
    "file_path = r\"C:\\Users\\Admin\\Downloads\\ds23_f-rdjupad_python-main\\ds23_f-rdjupad_python-main\\kunskapskontroll_1\\csv_viewer\\csv_viewer_without_data_and_filter 1\\test_data.csv\""
   ]
  },
  {
   "cell_type": "code",
   "execution_count": 117,
   "id": "af49814d",
   "metadata": {},
   "outputs": [],
   "source": [
    "df = pd.read_csv(file_path)"
   ]
  },
  {
   "cell_type": "code",
   "execution_count": 118,
   "id": "97db21e6",
   "metadata": {},
   "outputs": [
    {
     "name": "stdout",
     "output_type": "stream",
     "text": [
      "   year industry_code_ANZSIC               industry_name_ANZSIC rme_size_grp  \\\n",
      "0  2011                    A  Agriculture, Forestry and Fishing          a_0   \n",
      "1  2011                    A  Agriculture, Forestry and Fishing          a_0   \n",
      "2  2011                    A  Agriculture, Forestry and Fishing          a_0   \n",
      "3  2011                    A  Agriculture, Forestry and Fishing          a_0   \n",
      "4  2011                    A  Agriculture, Forestry and Fishing          a_0   \n",
      "\n",
      "                                          variable  value               unit  \n",
      "0                                    Activity unit  46134              COUNT  \n",
      "1                           Rolling mean employees      0              COUNT  \n",
      "2                          Salaries and wages paid    279  DOLLARS(millions)  \n",
      "3  Sales, government funding, grants and subsidies   8187  DOLLARS(millions)  \n",
      "4                                     Total income   8866  DOLLARS(millions)  \n"
     ]
    }
   ],
   "source": [
    "print(df.head())  # jag vill se att jag lyckdes ladda in data"
   ]
  },
  {
   "cell_type": "code",
   "execution_count": 119,
   "id": "73e754e8",
   "metadata": {},
   "outputs": [],
   "source": [
    "\n",
    "class VehicleViewerApp:\n",
    "    def __init__(self, root):\n",
    "        self.root = root\n",
    "        self.root.title(\"Autostrada - CSV Viewer\")\n",
    "        self.filtered_df = df.copy()  # Save filtered dataframe here\n",
    "\n",
    "        # Set window icon\n",
    "        self.set_window_icon()\n",
    "\n",
    "        # Style configurations\n",
    "        style = ttk.Style()\n",
    "        style.configure(\"Treeview\", rowheight=30, font=('Arial', 10))\n",
    "        style.configure(\"Treeview.Heading\", font=('Arial', 12, 'bold'))\n",
    "        style.configure(\"Treeview\", background=\"#F5F5F5\", foreground=\"#000000\", fieldbackground=\"#FFFFFF\")\n",
    "        style.configure('TButton', font=('Arial', 10), padding=6)\n",
    "\n",
    "        # Create a main frame\n",
    "        main_frame = tk.Frame(root, bg=\"#EAEAEA\")\n",
    "        main_frame.grid(row=0, column=0, sticky=\"nsew\", padx=10, pady=10)\n",
    "\n",
    "        # Create filter frame\n",
    "        filter_frame = tk.Frame(main_frame, bg=\"#EAEAEA\")\n",
    "        filter_frame.grid(row=0, column=0, sticky=\"ew\")\n",
    "\n",
    "        # Add a label and entry for filtering\n",
    "        self.filter_label = tk.Label(filter_frame, text=\"Filter (Column:Value):\", bg=\"#EAEAEA\")\n",
    "        self.filter_label.grid(row=0, column=0, padx=5, pady=5, sticky=\"w\")\n",
    "\n",
    "        self.filter_entry = tk.Entry(filter_frame, width=40)\n",
    "        self.filter_entry.grid(row=0, column=1, padx=5, pady=5)\n",
    "\n",
    "        self.filter_button = tk.Button(filter_frame, text=\"Apply Filter\", command=self.apply_filter)\n",
    "        self.filter_button.grid(row=0, column=2, padx=5, pady=5)\n",
    "\n",
    "        # Result Display as a table\n",
    "        self.tree = ttk.Treeview(main_frame, columns=[col for col in df.columns], show='headings')\n",
    "        self.tree.grid(row=1, column=0, padx=10, pady=10, sticky='nsew')\n",
    "\n",
    "        # Scrollbars\n",
    "        self.vsb = ttk.Scrollbar(main_frame, orient=\"vertical\", command=self.tree.yview)\n",
    "        self.vsb.grid(row=1, column=1, sticky='ns')\n",
    "        self.tree.configure(yscrollcommand=self.vsb.set)\n",
    "\n",
    "        self.hsb = ttk.Scrollbar(main_frame, orient=\"horizontal\", command=self.tree.xview)\n",
    "        self.hsb.grid(row=2, column=0, columnspan=2, sticky='ew')\n",
    "        self.tree.configure(xscrollcommand=self.hsb.set)\n",
    "\n",
    "        # Set column headings and initial column width\n",
    "        for col in df.columns:\n",
    "            self.tree.heading(col, text=col)\n",
    "            self.tree.column(col, width=100, stretch=tk.NO)  # Initial width, stretch turned off\n",
    "\n",
    "        self.auto_adjust_column_width()\n",
    "\n",
    "        # Row count label\n",
    "        self.row_count_label = tk.Label(main_frame, text=f\"Antal rader: {len(df)}\", font=('Arial', 10, 'bold'), bg=\"#EAEAEA\")\n",
    "        self.row_count_label.grid(row=2, column=0, pady=10, sticky=\"w\")\n",
    "\n",
    "        # Configure grid weights\n",
    "        main_frame.grid_rowconfigure(1, weight=1)\n",
    "        main_frame.grid_columnconfigure(0, weight=1)\n",
    "\n",
    "        # Make the main window resize with the content\n",
    "        self.root.grid_rowconfigure(0, weight=1)\n",
    "        self.root.grid_columnconfigure(0, weight=1)\n",
    "\n",
    "        # Display the full data\n",
    "        self.display_results(self.filtered_df)\n",
    "\n",
    "    def set_window_icon(self):\n",
    "        try:\n",
    "            # Load and set the window icon\n",
    "            self.icon_image = tk.PhotoImage(file='icon.png')  # Path to your icon file\n",
    "            self.root.iconphoto(True, self.icon_image)\n",
    "        except tk.TclError:\n",
    "            # Handle error if icon cannot be loaded\n",
    "            print(\"Error loading icon image. Make sure the file path is correct and the file is a valid image format.\")\n",
    "\n",
    "    def auto_adjust_column_width(self):\n",
    "        # Create a label for text measurement\n",
    "        label = tk.Label(self.root, font=('Arial', 10))\n",
    "        max_width = {col: len(self.tree.heading(col, 'text')) * 10 for col in self.tree[\"columns\"]}  # Start with heading width\n",
    "\n",
    "        # Check all column values\n",
    "        for item in self.tree.get_children():\n",
    "            row_values = self.tree.item(item, 'values')\n",
    "            for col, value in zip(self.tree[\"columns\"], row_values):\n",
    "                label.config(text=value)\n",
    "                text_width = label.winfo_reqwidth()\n",
    "                max_width[col] = max(max_width[col], text_width)\n",
    "\n",
    "        # Set column width based on the widest content\n",
    "        for col, width in max_width.items():\n",
    "            self.tree.column(col, width=width + 20)  # Add extra padding\n",
    "\n",
    "    def display_results(self, df_to_display):\n",
    "        # Clear previous results\n",
    "        for item in self.tree.get_children():\n",
    "            self.tree.delete(item)\n",
    "\n",
    "        # Display results\n",
    "        for _, row in df_to_display.iterrows():\n",
    "            self.tree.insert(\"\", \"end\", values=row.tolist())\n",
    "\n",
    "    def apply_filter(self):\n",
    "        filter_text = self.filter_entry.get()\n",
    "        if not filter_text:\n",
    "            self.filtered_df = df.copy()  # If filter is empty, reset to full DataFrame\n",
    "        else:\n",
    "            try:\n",
    "                column, value = filter_text.split(':', 1)\n",
    "                column = column.strip()\n",
    "                value = value.strip()\n",
    "                if column in df.columns:\n",
    "                    self.filtered_df = df[df[column].astype(str).str.contains(value, case=False, na=False)]\n",
    "                else:\n",
    "                    messagebox.showwarning(\"Invalid Column\", f\"Column '{column}' does not exist.\")\n",
    "                    self.filtered_df = df.copy()\n",
    "            except ValueError:\n",
    "                messagebox.showwarning(\"Invalid Filter\", \"Filter format should be 'Column:Value'.\")\n",
    "                self.filtered_df = df.copy()\n",
    "\n",
    "        # Update the display with filtered data\n",
    "        self.display_results(self.filtered_df)\n",
    "        self.row_count_label.config(text=f\"Antal rader: {len(self.filtered_df)}\")\n",
    "\n",
    "    def export_to_csv(self):\n",
    "        # Ask user for a file name and location\n",
    "        file_path = filedialog.asksaveasfilename(defaultextension=\".csv\",\n",
    "                                                 filetypes=[(\"CSV files\", \"*.csv\"), (\"All files\", \"*.*\")])\n",
    "        if not file_path:\n",
    "            return  # User canceled the save dialog\n",
    "\n",
    "        try:\n",
    "            # Export DataFrame to CSV with UTF-8 encoding\n",
    "            self.filtered_df.to_csv(file_path, index=False, encoding='utf-8-sig')\n",
    "            messagebox.showinfo(\"Export Success\", \"Data exported successfully!\")\n",
    "        except Exception as e:\n",
    "            messagebox.showerror(\"Export Error\", f\"An error occurred while exporting the data:\\n{e}\")\n",
    "\n",
    "\n",
    "# Create the application window\n",
    "root = tk.Tk()\n",
    "app = VehicleViewerApp(root)\n",
    "root.mainloop()\n"
   ]
  },
  {
   "cell_type": "code",
   "execution_count": 120,
   "id": "57a353da",
   "metadata": {},
   "outputs": [],
   "source": [
    "def set_window_icon(self):\n",
    "        try:\n",
    "            # Load and set the window icon\n",
    "            self.icon_image = tk.PhotoImage(file='icon.png')  # Path to your icon file\n",
    "            self.root.iconphoto(True, self.icon_image)\n",
    "        except tk.TclError:\n",
    "            # Handle error if icon cannot be loaded\n",
    "            print(\"Error loading icon image. Make sure the file path is correct and the file is a valid image format.\")\n"
   ]
  },
  {
   "cell_type": "code",
   "execution_count": 121,
   "id": "5b49bfb3",
   "metadata": {},
   "outputs": [],
   "source": [
    "def auto_adjust_column_width(self):\n",
    "        # Create a label for text measurement\n",
    "        label = tk.Label(self.root, font=('Arial', 10))\n",
    "        max_width = {col: len(self.tree.heading(col, 'text')) * 10 for col in self.tree[\"columns\"]}  # Start with heading width\n",
    "\n",
    "        # Check all column values\n",
    "        for item in self.tree.get_children():\n",
    "            row_values = self.tree.item(item, 'values')\n",
    "            for col, value in zip(self.tree[\"columns\"], row_values):\n",
    "                label.config(text=value)\n",
    "                text_width = label.winfo_reqwidth()\n",
    "                max_width[col] = max(max_width[col], text_width)\n",
    "\n",
    "        # Set column width based on the widest content\n",
    "        for col, width in max_width.items():\n",
    "            self.tree.column(col, width=width + 20)  # Add extra padding"
   ]
  },
  {
   "cell_type": "code",
   "execution_count": null,
   "id": "49439e8a",
   "metadata": {},
   "outputs": [],
   "source": []
  },
  {
   "cell_type": "code",
   "execution_count": null,
   "id": "e8bb9f71",
   "metadata": {},
   "outputs": [],
   "source": []
  },
  {
   "cell_type": "code",
   "execution_count": null,
   "id": "be553d89",
   "metadata": {},
   "outputs": [],
   "source": []
  },
  {
   "cell_type": "code",
   "execution_count": null,
   "id": "e72f0395",
   "metadata": {},
   "outputs": [],
   "source": []
  },
  {
   "cell_type": "code",
   "execution_count": null,
   "id": "7ec9fffd",
   "metadata": {},
   "outputs": [],
   "source": []
  },
  {
   "cell_type": "code",
   "execution_count": null,
   "id": "60402e8c",
   "metadata": {},
   "outputs": [],
   "source": []
  },
  {
   "cell_type": "code",
   "execution_count": null,
   "id": "7918d934",
   "metadata": {},
   "outputs": [],
   "source": []
  },
  {
   "cell_type": "markdown",
   "id": "7446bde4",
   "metadata": {},
   "source": [
    "# Fråga 2"
   ]
  },
  {
   "cell_type": "markdown",
   "id": "e6d85e0a",
   "metadata": {},
   "source": [
    "# K6.1 Kolla vilka klasser variablerna a, b, c, och d tillhör genom att använda type()-funktionen. Notera att vi i variabeln d har sparat en funktion. vi hade kunnat anropa den genom att till exempel skriva d(2)."
   ]
  },
  {
   "cell_type": "code",
   "execution_count": 76,
   "id": "804ba011",
   "metadata": {},
   "outputs": [],
   "source": [
    "a = 10                    \n",
    "b = [5, 7, 3]             \n",
    "c = {2, 7, 1, 8, 2, 8}    \n",
    "def my_fun(x):            \n",
    "    return 2 * 2\n",
    "d = my_fun\n"
   ]
  },
  {
   "cell_type": "code",
   "execution_count": 77,
   "id": "afdbf50b",
   "metadata": {},
   "outputs": [
    {
     "name": "stdout",
     "output_type": "stream",
     "text": [
      "<class 'int'>\n",
      "<class 'list'>\n",
      "<class 'set'>\n",
      "<class 'function'>\n"
     ]
    }
   ],
   "source": [
    "\n",
    "# Kontrollera typerna\n",
    "print(type(a))  \n",
    "print(type(b))  \n",
    "print(type(c))  \n",
    "print(type(d))  "
   ]
  },
  {
   "cell_type": "code",
   "execution_count": 78,
   "id": "4019e1b8",
   "metadata": {},
   "outputs": [
    {
     "name": "stdout",
     "output_type": "stream",
     "text": [
      "4\n"
     ]
    }
   ],
   "source": [
    "result = d(2)  \n",
    "print(result)  \n"
   ]
  },
  {
   "cell_type": "markdown",
   "id": "6a26904a",
   "metadata": {},
   "source": [
    "# K6.2.a Kolla om varialbeln my_variable är en instans av tuple-klassen genom att använda isinstance()-funktionen."
   ]
  },
  {
   "cell_type": "code",
   "execution_count": 79,
   "id": "24b2392e",
   "metadata": {},
   "outputs": [],
   "source": [
    "my_variable = (1, 1, 2, 3, 5) "
   ]
  },
  {
   "cell_type": "code",
   "execution_count": 80,
   "id": "6757763f",
   "metadata": {},
   "outputs": [
    {
     "name": "stdout",
     "output_type": "stream",
     "text": [
      "<class 'tuple'>\n"
     ]
    }
   ],
   "source": [
    "print(type(my_variable))"
   ]
  },
  {
   "cell_type": "code",
   "execution_count": 81,
   "id": "302ec5bb",
   "metadata": {},
   "outputs": [
    {
     "name": "stdout",
     "output_type": "stream",
     "text": [
      "my_variable är en tuple.\n"
     ]
    }
   ],
   "source": [
    "# Kontrollera om my_variable är en instans av tuple-klassen\n",
    "if isinstance(my_variable, tuple):\n",
    "    print(\"my_variable är en tuple.\")\n",
    "else:\n",
    "    print(\"my_variable är inte en tuple.\")"
   ]
  },
  {
   "cell_type": "markdown",
   "id": "59421c73",
   "metadata": {},
   "source": [
    "# K6.2.b Kolla om varialbeln my_variable är en instans av list-klassen genom att använda isinstance()-funktionen.\n"
   ]
  },
  {
   "cell_type": "code",
   "execution_count": 82,
   "id": "41b71177",
   "metadata": {},
   "outputs": [],
   "source": [
    "my_variable = (1, 1, 2, 3, 5) "
   ]
  },
  {
   "cell_type": "code",
   "execution_count": 83,
   "id": "cd9b2767",
   "metadata": {},
   "outputs": [
    {
     "name": "stdout",
     "output_type": "stream",
     "text": [
      "my_variable är inte en lista.\n"
     ]
    }
   ],
   "source": [
    "if isinstance(my_variable, list):\n",
    "    print(\"my_variable är en lista.\")\n",
    "else:\n",
    "    print(\"my_variable är inte en lista.\")"
   ]
  },
  {
   "cell_type": "markdown",
   "id": "5f5cb5cd",
   "metadata": {},
   "source": [
    "# K6.3.(a). skapaen klass som heter FruitProduct som har en docstring där det står \"A class representing fruit products in a grocery store\" (b). Klassen skall ha instans-attributen price och quantity. Detta gör du i samband med _ _init_ _(). (c). Instantiera klassen och spara instansen i varabeln swedish_apples. Dess pris skall vara 52 och dess kvantitet 1. Det är underförstått att vi menar kronor respektive kg. (d). Printa ut klassens docstring genom att använda dig av _ _doc_ _. (e). Printa ut attributen från swedish_apples-instansen. (f). Kolla vilken klass instansen swedish_apples tillhör genom att använda type()-metoden. (g). Kolla om swedish_apples tillhör klassen FruitProduct genom att använda isinstance()-metoden."
   ]
  },
  {
   "cell_type": "code",
   "execution_count": 84,
   "id": "d5a3cfb4",
   "metadata": {},
   "outputs": [],
   "source": [
    "class FruitProduct:\n",
    "    \"\"\"A class representing fruit products in a grocery store\"\"\"\n",
    "\n",
    "    # (b) Definiera instans-attributen `price` och `quantity` i __init__()-metoden\n",
    "    def __init__(self, price, quantity):\n",
    "        self.price = price\n",
    "        self.quantity = quantity\n"
   ]
  },
  {
   "cell_type": "code",
   "execution_count": 85,
   "id": "10f548d6",
   "metadata": {},
   "outputs": [],
   "source": [
    "# (c) Instantiera klassen och spara instansen i variabeln `swedish_apples`\n",
    "swedish_apples = FruitProduct(price=52, quantity=1)"
   ]
  },
  {
   "cell_type": "code",
   "execution_count": 86,
   "id": "f831a4f1",
   "metadata": {},
   "outputs": [
    {
     "name": "stdout",
     "output_type": "stream",
     "text": [
      "A class representing fruit products in a grocery store\n"
     ]
    }
   ],
   "source": [
    "print(FruitProduct.__doc__)  "
   ]
  },
  {
   "cell_type": "code",
   "execution_count": 87,
   "id": "e00672f7",
   "metadata": {},
   "outputs": [
    {
     "name": "stdout",
     "output_type": "stream",
     "text": [
      "Pris: 52 kr\n",
      "Kvantitet: 1 kg\n"
     ]
    }
   ],
   "source": [
    "print(f\"Pris: {swedish_apples.price} kr\")         \n",
    "print(f\"Kvantitet: {swedish_apples.quantity} kg\") \n"
   ]
  },
  {
   "cell_type": "code",
   "execution_count": 88,
   "id": "75c14877",
   "metadata": {},
   "outputs": [
    {
     "name": "stdout",
     "output_type": "stream",
     "text": [
      "<class '__main__.FruitProduct'>\n"
     ]
    }
   ],
   "source": [
    "print(type(swedish_apples))  "
   ]
  },
  {
   "cell_type": "code",
   "execution_count": 89,
   "id": "aeb664e0",
   "metadata": {},
   "outputs": [
    {
     "name": "stdout",
     "output_type": "stream",
     "text": [
      "True\n"
     ]
    }
   ],
   "source": [
    "print(isinstance(swedish_apples, FruitProduct))  "
   ]
  },
  {
   "cell_type": "markdown",
   "id": "be16bc34",
   "metadata": {},
   "source": [
    "# K6.4 Skapa en klass Square vars instanser har attributet side_length. skapa två metoder, perimeter() och area() där metoderna beräknar omkretsen respektive arean givet llängden på kvadraternas sidor som finns i attributet side_length. Skapa en instans my_square med sidlängden 8. Beräkna omkretsen och arean av my_square genom att använda de två metoderna som du har skapat. "
   ]
  },
  {
   "cell_type": "code",
   "execution_count": 90,
   "id": "4e437c47",
   "metadata": {},
   "outputs": [],
   "source": [
    "# Skapa klassen Square\n",
    "class Square:\n",
    "    def __init__(self, side_length):\n",
    "        \"\"\"\n",
    "        Initiera en instans av klassen Square med attributet side_length.\n",
    "        \"\"\"\n",
    "        self.side_length = side_length\n",
    "\n",
    "    def perimeter(self):\n",
    "        \"\"\"\n",
    "        Beräkna omkretsen av kvadraten.\n",
    "        Omkretsen av en kvadrat är 4 gånger längden på sidan.\n",
    "        \"\"\"\n",
    "        return 4 * self.side_length\n",
    "\n",
    "    def area(self):\n",
    "        \"\"\"\n",
    "        Beräkna arean av kvadraten.\n",
    "        Arean av en kvadrat är längden på sidan upphöjd till 2.\n",
    "        \"\"\"\n",
    "        return self.side_length ** 2"
   ]
  },
  {
   "cell_type": "code",
   "execution_count": 91,
   "id": "4630251e",
   "metadata": {},
   "outputs": [],
   "source": [
    "# Skapa en instans av klassen Square\n",
    "my_square = Square(side_length=8)"
   ]
  },
  {
   "cell_type": "code",
   "execution_count": 92,
   "id": "c95bf396",
   "metadata": {},
   "outputs": [
    {
     "name": "stdout",
     "output_type": "stream",
     "text": [
      "Omkretsen av kvadraten är: 32\n",
      "Arean av kvadraten är: 64\n"
     ]
    }
   ],
   "source": [
    "print(f\"Omkretsen av kvadraten är: {my_square.perimeter()}\")  \n",
    "print(f\"Arean av kvadraten är: {my_square.area()}\")          \n"
   ]
  },
  {
   "cell_type": "markdown",
   "id": "0d62f9f4",
   "metadata": {},
   "source": [
    "# K6.5(a)Förklara vad nedanstående kod gör. (b) Prova att ändra variabeln L i koden nedan till en tuple och ae vad som sker när du kör om all kod."
   ]
  },
  {
   "cell_type": "code",
   "execution_count": 93,
   "id": "21949fb5",
   "metadata": {},
   "outputs": [],
   "source": [
    "class DescriptiveStatistics:   #Docstring.Skap en klass beräkna beskrivande statistik från en lista\n",
    "    \"\"\"This class provides functionality for calculating\n",
    "    descriptive statistics from a list.\"\"\"\n",
    "    \n",
    "    def __init__(self):   #__init__ Metod.Initialiserar en tom lista data där användaren kan lägga till numeriska värden\n",
    "        self.data = []\n",
    "        \n",
    "    def add_data(self, data):   #add_data Metod. ar ett argument data.\n",
    "        if isinstance(data, list):   #Kontrollerar om data är en lista med hjälp av isinstance().\n",
    "            self.data.extend(data)   #Om data är en lista, läggs dess innehåll till den interna listan self.data med extend().\n",
    "        else:\n",
    "            # Code below raises an error if the data is \n",
    "            # not a list. Will be covered in chapter \n",
    "            # 8 of the book.\n",
    "            raise Exception('Only \"Lists\" are accepted as data.')    #Om data inte är en lista, kastas ett undantag (Exception).\n",
    "                \n",
    "    def calc_sum(self):   #Beräknar summan av alla element i self.data med hjälp av sum()\n",
    "        return sum(self.data)\n",
    "    \n",
    "    def calc_nbr_of_elements(self):   #Beräknar antalet element i self.data med hjälp av len()\n",
    "        return len(self.data)\n",
    "    \n",
    "    def calc_mean(self):   #Beräknar medelvärdet\n",
    "        return self.calc_sum() / self.calc_nbr_of_elements()\n",
    "        \n",
    "    def print_summary(self):   #Sammanfattande statistik\n",
    "        print('Sum:', self.calc_sum())\n",
    "        print('Number of elements:', self.calc_nbr_of_elements())\n",
    "        print('Mean:', self.calc_mean())\n"
   ]
  },
  {
   "cell_type": "code",
   "execution_count": 94,
   "id": "e7c92ee8",
   "metadata": {},
   "outputs": [],
   "source": [
    "L = [1, 2, 1, 3, 5, 7, 4, 9, 10, 3, 2, 1, 6, 4, 3, 2, 1, 10, 9, 1, 8, 7, 3, 2, 1]   # lista med flera numeriska värden\n",
    "my_data = DescriptiveStatistics()   #En instans av DescriptiveStatistics\n",
    "my_data.add_data(L)   #lägger till listan L till den interna listan self.data i my_data"
   ]
  },
  {
   "cell_type": "code",
   "execution_count": 95,
   "id": "bb71c51f",
   "metadata": {},
   "outputs": [
    {
     "data": {
      "text/plain": [
       "[1, 2, 1, 3, 5, 7, 4, 9, 10, 3, 2, 1, 6, 4, 3, 2, 1, 10, 9, 1, 8, 7, 3, 2, 1]"
      ]
     },
     "execution_count": 95,
     "metadata": {},
     "output_type": "execute_result"
    }
   ],
   "source": [
    "my_data.data   #Lyckades lägga data"
   ]
  },
  {
   "cell_type": "code",
   "execution_count": 96,
   "id": "db533099",
   "metadata": {},
   "outputs": [
    {
     "name": "stdout",
     "output_type": "stream",
     "text": [
      "Sum: 105\n"
     ]
    }
   ],
   "source": [
    "print('Sum:', my_data.calc_sum())"
   ]
  },
  {
   "cell_type": "code",
   "execution_count": 97,
   "id": "164b028d",
   "metadata": {},
   "outputs": [
    {
     "name": "stdout",
     "output_type": "stream",
     "text": [
      "Number of elements: 25\n"
     ]
    }
   ],
   "source": [
    "print('Number of elements:', my_data.calc_nbr_of_elements())"
   ]
  },
  {
   "cell_type": "code",
   "execution_count": 98,
   "id": "11a640d9",
   "metadata": {},
   "outputs": [
    {
     "name": "stdout",
     "output_type": "stream",
     "text": [
      "Mean: <bound method DescriptiveStatistics.calc_mean of <__main__.DescriptiveStatistics object at 0x000001E8E5CBD950>>\n"
     ]
    }
   ],
   "source": [
    "print('Mean:', my_data.calc_mean)"
   ]
  },
  {
   "cell_type": "code",
   "execution_count": 99,
   "id": "bdd982e6",
   "metadata": {},
   "outputs": [
    {
     "name": "stdout",
     "output_type": "stream",
     "text": [
      "Sum: 105\n",
      "Number of elements: 25\n",
      "Mean: 4.2\n"
     ]
    }
   ],
   "source": [
    "my_data.print_summary()"
   ]
  },
  {
   "cell_type": "markdown",
   "id": "19e31a2d",
   "metadata": {},
   "source": [
    "svar på b, jag tror det kommer ge fel för att Only \"Lists\" are accepted as data."
   ]
  },
  {
   "cell_type": "code",
   "execution_count": 100,
   "id": "9176f10b",
   "metadata": {},
   "outputs": [
    {
     "name": "stdout",
     "output_type": "stream",
     "text": [
      "Error: Only \"Lists\" are accepted as data.\n",
      "Sum: 0\n",
      "Number of elements: 0\n"
     ]
    },
    {
     "ename": "ZeroDivisionError",
     "evalue": "division by zero",
     "output_type": "error",
     "traceback": [
      "\u001b[1;31m---------------------------------------------------------------------------\u001b[0m",
      "\u001b[1;31mZeroDivisionError\u001b[0m                         Traceback (most recent call last)",
      "Cell \u001b[1;32mIn[100], line 47\u001b[0m\n\u001b[0;32m     45\u001b[0m \u001b[38;5;28mprint\u001b[39m(\u001b[38;5;124m'\u001b[39m\u001b[38;5;124mSum:\u001b[39m\u001b[38;5;124m'\u001b[39m, my_data\u001b[38;5;241m.\u001b[39mcalc_sum())\n\u001b[0;32m     46\u001b[0m \u001b[38;5;28mprint\u001b[39m(\u001b[38;5;124m'\u001b[39m\u001b[38;5;124mNumber of elements:\u001b[39m\u001b[38;5;124m'\u001b[39m, my_data\u001b[38;5;241m.\u001b[39mcalc_nbr_of_elements())\n\u001b[1;32m---> 47\u001b[0m \u001b[38;5;28mprint\u001b[39m(\u001b[38;5;124m'\u001b[39m\u001b[38;5;124mMean:\u001b[39m\u001b[38;5;124m'\u001b[39m, my_data\u001b[38;5;241m.\u001b[39mcalc_mean())\n\u001b[0;32m     48\u001b[0m my_data\u001b[38;5;241m.\u001b[39mprint_summary()\n",
      "Cell \u001b[1;32mIn[100], line 25\u001b[0m, in \u001b[0;36mDescriptiveStatistics.calc_mean\u001b[1;34m(self)\u001b[0m\n\u001b[0;32m     24\u001b[0m \u001b[38;5;28;01mdef\u001b[39;00m \u001b[38;5;21mcalc_mean\u001b[39m(\u001b[38;5;28mself\u001b[39m):\n\u001b[1;32m---> 25\u001b[0m     \u001b[38;5;28;01mreturn\u001b[39;00m \u001b[38;5;28mself\u001b[39m\u001b[38;5;241m.\u001b[39mcalc_sum() \u001b[38;5;241m/\u001b[39m \u001b[38;5;28mself\u001b[39m\u001b[38;5;241m.\u001b[39mcalc_nbr_of_elements()\n",
      "\u001b[1;31mZeroDivisionError\u001b[0m: division by zero"
     ]
    }
   ],
   "source": [
    "# Definiera klassen\n",
    "class DescriptiveStatistics:   #Skapa \n",
    "    \"\"\"This class provides functionality for calculating\n",
    "    descriptive statistics from a list.\"\"\"\n",
    "    \n",
    "    def __init__(self):   \n",
    "        self.data = []\n",
    "        \n",
    "    def add_data(self, data):\n",
    "        if isinstance(data, list):\n",
    "            self.data.extend(data)\n",
    "        else:\n",
    "            # Code below raises an error if the data is \n",
    "            # not a list. Will be covered in chapter \n",
    "            # 8 of the book.\n",
    "            raise Exception('Only \"Lists\" are accepted as data.')\n",
    "                \n",
    "    def calc_sum(self):\n",
    "        return sum(self.data)\n",
    "    \n",
    "    def calc_nbr_of_elements(self):\n",
    "        return len(self.data)\n",
    "    \n",
    "    def calc_mean(self):\n",
    "        return self.calc_sum() / self.calc_nbr_of_elements()\n",
    "        \n",
    "    def print_summary(self):\n",
    "        print('Sum:', self.calc_sum())\n",
    "        print('Number of elements:', self.calc_nbr_of_elements())\n",
    "        print('Mean:', self.calc_mean())\n",
    "\n",
    "# Ändra L till en tuple\n",
    "L = (1, 2, 1, 3, 5, 7, 4, 9, 10, 3, 2, 1, 6, 4, 3, 2, 1, 10, 9, 1, 8, 7, 3, 2, 1)\n",
    "\n",
    "# Skapa en instans av DescriptiveStatistics\n",
    "my_data = DescriptiveStatistics()\n",
    "\n",
    "# Försök att lägga till data (detta kommer att orsaka ett fel)\n",
    "try:\n",
    "    my_data.add_data(L)\n",
    "except Exception as e:\n",
    "    print(\"Error:\", e)\n",
    "\n",
    "# Skriva ut resultat\n",
    "print('Sum:', my_data.calc_sum())\n",
    "print('Number of elements:', my_data.calc_nbr_of_elements())\n",
    "print('Mean:', my_data.calc_mean())\n",
    "my_data.print_summary()\n"
   ]
  },
  {
   "cell_type": "markdown",
   "id": "14d62200",
   "metadata": {},
   "source": [
    "# K6.6(a). Skapa en klass som heter BankAccount. Klassen skall ha attributet account_holder som visar kontoinnehavarens namn samt attributet balance som visar kontoinnehavarens balans. Klassen skall ha metoden deposit() för att kunna sätt in pengar på kontot samt metoden withdraw() för att kunna ta ut pengar på kontot. Om bankinnehavaren försöker ta ut mer pengar än vad som finns på kontot skall meddelandet \"Balance too low\" printas ut. (b) Skapa en instans av klassen och testa så klassen funkar så som du förväntar dig. du kan till exempel prova printa ut attributten, sätta in pengar och ta ut pengar."
   ]
  },
  {
   "cell_type": "code",
   "execution_count": 103,
   "id": "a906e927",
   "metadata": {},
   "outputs": [],
   "source": [
    "class BankAccount:\n",
    "    def __init__(self, account_holder, balance=0):\n",
    "        \"\"\"\n",
    "        Initierar en BankAccount-instans med kontoinnehavarens namn och initial balans.\n",
    "        \n",
    "        :param account_holder: Kontoinnehavarens namn\n",
    "        :param balance: Initial balans (standard är 0)\n",
    "        \"\"\"\n",
    "        self.account_holder = account_holder\n",
    "        self.balance = balance\n",
    "\n",
    "    def deposit(self, amount):\n",
    "        \"\"\"\n",
    "        Sätter in ett belopp på kontot.\n",
    "        \n",
    "        :param amount: Beloppet som ska sättas in (måste vara ett positivt tal)\n",
    "        \"\"\"\n",
    "        if amount > 0:\n",
    "            self.balance += amount\n",
    "        else:\n",
    "            print(\"Deposit amount must be positive.\")\n",
    "\n",
    "    def withdraw(self, amount):\n",
    "        \"\"\"\n",
    "        Tar ut ett belopp från kontot om det finns tillräckligt med medel.\n",
    "        \n",
    "        :param amount: Beloppet som ska tas ut (måste vara ett positivt tal)\n",
    "        \"\"\"\n",
    "        if amount > 0:\n",
    "            if amount <= self.balance:\n",
    "                self.balance -= amount\n",
    "            else:\n",
    "                print(\"Balance too low.\")\n",
    "        else:\n",
    "            print(\"Withdrawal amount must be positive.\")\n",
    "    \n",
    "    def get_balance(self):\n",
    "        \"\"\"\n",
    "        Returnerar den aktuella balansen på kontot.\n",
    "        \"\"\"\n",
    "        return self.balance\n",
    "    \n",
    "    def print_summary(self):\n",
    "        \"\"\"\n",
    "        Skriver ut en sammanfattning av kontoinformationen.\n",
    "        \"\"\"\n",
    "        print(f\"Account Holder: {self.account_holder}\")\n",
    "        print(f\"Balance: {self.balance}\")"
   ]
  },
  {
   "cell_type": "code",
   "execution_count": 104,
   "id": "f5aa05c6",
   "metadata": {},
   "outputs": [
    {
     "name": "stdout",
     "output_type": "stream",
     "text": [
      "Account Holder: Ming\n",
      "Balance: 1070\n"
     ]
    }
   ],
   "source": [
    "# Skapa en instans av BankAccount\n",
    "account = BankAccount(account_holder=\"Ming\", balance=100)\n",
    "\n",
    "# Sätt in pengar\n",
    "account.deposit(1000)  \n",
    "\n",
    "# Försök att ta ut pengar\n",
    "account.withdraw(30) \n",
    "\n",
    "# Skriv ut kontoinformation\n",
    "account.print_summary()"
   ]
  },
  {
   "cell_type": "code",
   "execution_count": 105,
   "id": "0e8099b2",
   "metadata": {},
   "outputs": [
    {
     "name": "stdout",
     "output_type": "stream",
     "text": [
      "Balance too low.\n"
     ]
    }
   ],
   "source": [
    "account.withdraw(2000) "
   ]
  },
  {
   "cell_type": "markdown",
   "id": "ddab2132",
   "metadata": {},
   "source": [
    "# K6.7 Din kollega Adrian frågar dig, vad är klasser för något? Försök förklara detta för Adrian. Använd begreppen instanser, attbibut samt metoder i din förklaring."
   ]
  },
  {
   "cell_type": "markdown",
   "id": "de349221",
   "metadata": {},
   "source": [
    "svar:\n",
    "En klass i programmering är en mall eller en blueprint som definierar hur objekt ska skapas och hur\n",
    "de ska bete sig. Den beskriver en typ av objekt och definierar deras gemensamma egenskaper och beteenden.\n",
    "Instanser\n",
    "När du använder en klass för att skapa ett objekt, skapar du en instans av den klassen. En instans \n",
    "är ett konkret exempel på en klass med egna specifika värden. Till exempel, om vi har en klass som \n",
    "heter Car, kan varje bil du skapar med den klassen vara en separat instans av Car. Varje bil kan ha \n",
    "olika färger och registreringsnummer, även om de alla är av typen Car.\n",
    "\n",
    "Attribut\n",
    "Attribut är de variabler som är bundna till en klass och definierar dess egenskaper. Attribut \n",
    "representerar data som är lagrad inom instansen. I vår Car-klass kan attribut vara exempelvis color \n",
    "och registration_number. Varje instans av Car kommer att ha sina egna värden för dessa attribut.\n",
    "\n",
    "Metoder\n",
    "Metoder är funktioner som är definierade inuti en klass och som beskriver beteenden eller funktioner \n",
    "som objekt av klassen kan utföra. De är som verktyg eller operationer som kan användas på instanser av \n",
    "klassen. Till exempel, i vår Car-klass kan vi ha metoder som drive() (köra) och park() (parkerar). \n",
    "Dessa metoder beskriver vad en bil kan göra.\n",
    "En klass är som en ritning för objekt. Den beskriver vad objekten (instanser) har för egenskaper (attribut)\n",
    "och vad de kan göra (metoder). Instanser är specifika exempel på klassen med sina egna unika värden för \n",
    "attributen. Metoder är funktioner som används för att utföra handlingar med dessa instanser"
   ]
  },
  {
   "cell_type": "markdown",
   "id": "f67303b3",
   "metadata": {},
   "source": [
    "# K7.1 a) Vad gör du om du arbetar i ett projekt som har ett internt dokument med style guidelines som går emot vad PEP 8 säger?\n",
    "svar: jag ska följa de interna riktlinjerna. För att företagets eller organisationens regler och konventioner är anpassade efter deras specifika behov och är viktigare att följa i detta sammanhang. PEP 8 är en rekommendation för Python-kodning, men projektets interna konventioner tar över om de är i konflikt."
   ]
  },
  {
   "cell_type": "markdown",
   "id": "9d4c61d1",
   "metadata": {},
   "source": [
    "# b) På vilket språk skall kommentarer generellt sett skrivas?\n",
    "svar: Kommentarer ska generellt skrivas på engelska tycker jag. För att det gör koden mer tillgänglig för ett globalt team och lättare att förstå för utvecklare som inte talar samma modersmål."
   ]
  },
  {
   "cell_type": "markdown",
   "id": "d7e0e54d",
   "metadata": {},
   "source": [
    "# c) Hur skall funktioner och variabler namnges?\n",
    "svar: Funktioner och variabler ska namnges med små bokstäver och skiljer ord med understreck (_). Exempel: calculate_total, user_name."
   ]
  },
  {
   "cell_type": "markdown",
   "id": "d4b3577d",
   "metadata": {},
   "source": [
    "# d) Hur skall klasser namnges?\n",
    "svar: Klasser ska namnges att varje ord börjar med en stor bokstav och inga understreck används. Exempel: MyClass, UserProfile."
   ]
  },
  {
   "cell_type": "markdown",
   "id": "bfff036c",
   "metadata": {},
   "source": [
    "# e) Var ska import-koden placeras i ett skript?\n",
    "svar: Enligt PEP 8 ska alla import-satser placeras i början av ett skript, direkt efter eventuella moduldokumentationssträngar och före modulkod. Importer ska vara uppdelade i tre sektioner: standardbiblioteksmoduler, tredjepartsmoduler, och egna moduler. Varje sektion ska separeras med en tom rad."
   ]
  },
  {
   "cell_type": "markdown",
   "id": "49b45015",
   "metadata": {},
   "source": [
    "# f) Skall man använda enkla ('my_string') eller dubbla (\"my_string\") citationstecken för att skapa en sträng?\n",
    "Enligt PEP 8 är det tillåtet att använda både enkla ('my_string') och dubbla (\"my_string\") citationstecken för att skapa strängar. Det viktiga är att vara konsekvent inom samma projekt eller fil."
   ]
  },
  {
   "cell_type": "markdown",
   "id": "720c4ffc",
   "metadata": {},
   "source": [
    "# g) Vilket av alternativ 1 och alternativ 2 är det korrekta sättet att skriva koden på, enligt PEP 8?\n",
    "svar: Enligt PEP 8 ska man använda mellanslag runt operatorer för bättre läsbarhet. Därför är Alternativ 1 det korrekta sättet att skriva koden: \n",
    "Alternativ 1: a1 = 5 + 2"
   ]
  },
  {
   "cell_type": "markdown",
   "id": "4182d097",
   "metadata": {},
   "source": [
    "# 7.2 a)  \"Explicit is better than implicit.\"\n",
    "Vad det innebär:\n",
    "svar: Denna princip betyder att kod bör vara tydlig och lätt att förstå utan att behöva gissa vad som händer. Genom att vara explicit, minskar man risken för missförstånd och buggar. Att göra något implicit kan leda till förvirring eftersom det kanske inte är uppenbart vad koden gör eller vad som förväntas."
   ]
  },
  {
   "cell_type": "code",
   "execution_count": null,
   "id": "1438e097",
   "metadata": {},
   "outputs": [],
   "source": [
    "#explicit\n",
    "my_list = []\n",
    "if len(my_list) == 0:\n",
    "    print(\"Listan är tom\")\n",
    "#implicit\n",
    "my_list = []\n",
    "if not my_list:  # Kan vara förvirrande för vissa\n",
    "    print(\"Listan är tom\")\n"
   ]
  },
  {
   "cell_type": "markdown",
   "id": "532bc35b",
   "metadata": {},
   "source": [
    "båda koderna är korrekta, men den första lättare att förstå"
   ]
  },
  {
   "cell_type": "markdown",
   "id": "208fbc56",
   "metadata": {},
   "source": [
    "# 7.3 du och din nya kollega har en fikapaus och han säger följande: \"det känns krångligt att vi alla skall behöva följa konventioner och standarder. är det inte lättare om alla bara skriver kod på det sättet som de vill, så länge som den fungerar.\n",
    "svar: skriva kod på ett personligt och fritt sätt kan kännas enklare och mer kreativt, men det finns några anledningar följer konventioner och standarder: om flera utvecklare arbetar med samma projekt över tid. Om alla skriver kod på sitt eget sätt, blir det snabbt svårt att läsa, förstå och underhålla koden. Kod som följer standarder är lättare att underhålla och förbättra. När en ny utvecklare kommer in i projektet, behöver de inte lära sig allas personliga kodstil, utan kan direkt känna sig hemma i kodbasen eftersom den följer gemensamma konventioner. Det kan minimerar risken för misstag och buggar. Lättare för teamwowrk. Gemensamma standarder gör att vi alla pratar \"samma språk\", vilket förbättrar kommunikationen och gör det lättare att granska varandras kod."
   ]
  },
  {
   "cell_type": "markdown",
   "id": "592ba608",
   "metadata": {},
   "source": [
    "# K8.1 Din kollega Johanna frågar dig: a) vad är syntax errors?\n",
    "svar: Ett syntaxfel är ett typ av fel som uppstår när programmeringsspråkets grammatikregler bryts. Dessa fel upptäcks av kompilatorn eller tolken när den försöker köra koden och kan bero på olika saker, till exempel:\n",
    "Felaktig användning av nyckelord.Saknade eller felaktiga parenteser, citattecken, eller indragningar.Stavfel i kommandon eller variabelnamn.Felplacerade symboler eller operatorer.\n",
    "Syntaxfel är oftast lätta att upptäcka och åtgärda, eftersom felmeddelandet vanligtvis pekar på den exakta raden och ibland även den specifika delen av koden som orsakar problemet."
   ]
  },
  {
   "cell_type": "markdown",
   "id": "6c58754b",
   "metadata": {},
   "source": [
    "# b) Varför skulle man vilja fånga exceptions i ett program och inte bara låta programmet stanna vid fel?\n",
    "svar: fånga exceptions gör program mer stabilt, förhindrar krascher, förbättrar användarupplevelsen och gör det lättare att felsöka och underhålla koden."
   ]
  },
  {
   "cell_type": "markdown",
   "id": "f5b00e9a",
   "metadata": {},
   "source": [
    "# c) Varför skulle man vilja lyfta exceptions i ett program?\n",
    "svar: Att lyfta exceptions ör att skriva tydlig, säker och underhållbar kod. Det säkerställer att fel hanteras på rätt sätt, gör koden mer läsbar, och möjliggör anpassade och informativa felmeddelanden. Genom att använda undantag effektivt kan man skapa program som är både robusta och användarvänliga."
   ]
  },
  {
   "cell_type": "code",
   "execution_count": null,
   "id": "c12c76fd",
   "metadata": {},
   "outputs": [],
   "source": []
  },
  {
   "cell_type": "code",
   "execution_count": null,
   "id": "0ee7c2a1",
   "metadata": {},
   "outputs": [],
   "source": []
  },
  {
   "cell_type": "code",
   "execution_count": null,
   "id": "e2ff6070",
   "metadata": {},
   "outputs": [],
   "source": []
  },
  {
   "cell_type": "code",
   "execution_count": null,
   "id": "68c02557",
   "metadata": {},
   "outputs": [],
   "source": []
  },
  {
   "cell_type": "code",
   "execution_count": null,
   "id": "db76fe1b",
   "metadata": {},
   "outputs": [],
   "source": []
  },
  {
   "cell_type": "code",
   "execution_count": null,
   "id": "4bd0b7fc",
   "metadata": {},
   "outputs": [],
   "source": []
  },
  {
   "cell_type": "code",
   "execution_count": null,
   "id": "f47eb0b5",
   "metadata": {},
   "outputs": [],
   "source": []
  },
  {
   "cell_type": "code",
   "execution_count": null,
   "id": "d7044a13",
   "metadata": {},
   "outputs": [],
   "source": []
  },
  {
   "cell_type": "code",
   "execution_count": null,
   "id": "fc996a71",
   "metadata": {},
   "outputs": [],
   "source": []
  },
  {
   "cell_type": "code",
   "execution_count": null,
   "id": "52df825b",
   "metadata": {},
   "outputs": [],
   "source": []
  },
  {
   "cell_type": "markdown",
   "id": "31db7a21",
   "metadata": {},
   "source": [
    "# K9.1 Varför är det generellt sett en fod ide att bygga upp tester för sin kod?"
   ]
  },
  {
   "cell_type": "markdown",
   "id": "40cbca7a",
   "metadata": {},
   "source": [
    "svar: Tester är avgörande för att snabbt identifiera och åtgärda fel och buggar i koden. Genom enhetstester och integrationstester säkerställs att funktioner uppfyller specifikationer och att systemets delar fungerar tillsammans som de ska. Tester hjälper till att verifiera att förändringar inte bryter befintlig funktionalitet och ger insikt i vilka indata och utdata som förväntas. Om ett test misslyckas pekar det på var problemet kan ligga, vilket underlättar felsökning. Automatisering av tester möjliggör frekvent och konsekvent testning utan manuell insats, och en välstrukturerad testuppsättning gör koden lättare att förstå och underhålla."
   ]
  },
  {
   "cell_type": "markdown",
   "id": "7fec6437",
   "metadata": {},
   "source": [
    "# K9.2 Nedan ser du funktionen multiply_two_numbers. Använd doctest-modulen för att implementera några test för dunktionen multiply_two_numbers. Den läsare som önskar kan även implementera testen i modulen pytest"
   ]
  },
  {
   "cell_type": "code",
   "execution_count": 107,
   "id": "af354ae5",
   "metadata": {},
   "outputs": [],
   "source": [
    "def multiply_two_numbers(a, b):\n",
    "    \"\"\"Return the product of a and b.\"\"\"\n",
    "    return a*b"
   ]
  },
  {
   "cell_type": "code",
   "execution_count": 108,
   "id": "44bcfdf1",
   "metadata": {},
   "outputs": [],
   "source": [
    "def multiply_two_numbers(a, b):\n",
    "    \"\"\"Return the product of a and b.\n",
    "    \n",
    "    Examples:\n",
    "    >>> multiply_two_numbers(2, 3)\n",
    "    6\n",
    "    >>> multiply_two_numbers(-1, 5)\n",
    "    -5\n",
    "    >>> multiply_two_numbers(0, 10)\n",
    "    0\n",
    "    >>> multiply_two_numbers(7, 7)\n",
    "    49\n",
    "    \"\"\"\n",
    "    return a * b\n",
    "\n",
    "if __name__ == \"__main__\":\n",
    "    import doctest\n",
    "    doctest.testmod()\n"
   ]
  },
  {
   "cell_type": "code",
   "execution_count": 109,
   "id": "07c38422",
   "metadata": {},
   "outputs": [
    {
     "ename": "ModuleNotFoundError",
     "evalue": "No module named 'your_module'",
     "output_type": "error",
     "traceback": [
      "\u001b[1;31m---------------------------------------------------------------------------\u001b[0m",
      "\u001b[1;31mModuleNotFoundError\u001b[0m                       Traceback (most recent call last)",
      "Cell \u001b[1;32mIn[109], line 2\u001b[0m\n\u001b[0;32m      1\u001b[0m \u001b[38;5;28;01mimport\u001b[39;00m \u001b[38;5;21;01mpytest\u001b[39;00m\n\u001b[1;32m----> 2\u001b[0m \u001b[38;5;28;01mfrom\u001b[39;00m \u001b[38;5;21;01myour_module\u001b[39;00m \u001b[38;5;28;01mimport\u001b[39;00m multiply_two_numbers  \u001b[38;5;66;03m# Ersätt 'your_module' med namnet på din Python-fil utan .py\u001b[39;00m\n\u001b[0;32m      4\u001b[0m \u001b[38;5;28;01mdef\u001b[39;00m \u001b[38;5;21mtest_multiply_two_numbers\u001b[39m():\n\u001b[0;32m      5\u001b[0m     \u001b[38;5;28;01massert\u001b[39;00m multiply_two_numbers(\u001b[38;5;241m2\u001b[39m, \u001b[38;5;241m3\u001b[39m) \u001b[38;5;241m==\u001b[39m \u001b[38;5;241m6\u001b[39m\n",
      "\u001b[1;31mModuleNotFoundError\u001b[0m: No module named 'your_module'"
     ]
    }
   ],
   "source": [
    "import pytest\n",
    "from your_module import multiply_two_numbers  # Ersätt 'your_module' med namnet på din Python-fil utan .py\n",
    "\n",
    "def test_multiply_two_numbers():\n",
    "    assert multiply_two_numbers(2, 3) == 6\n",
    "    assert multiply_two_numbers(-1, 5) == -5\n",
    "    assert multiply_two_numbers(0, 10) == 0\n",
    "    assert multiply_two_numbers(7, 7) == 49\n",
    "\n",
    "if __name__ == \"__main__\":\n",
    "    pytest.main()\n"
   ]
  },
  {
   "cell_type": "code",
   "execution_count": null,
   "id": "b9a0173a",
   "metadata": {},
   "outputs": [],
   "source": [
    "pytest test_multiply.py\n"
   ]
  },
  {
   "cell_type": "markdown",
   "id": "1b32a8d5",
   "metadata": {},
   "source": [
    "# 9.3 Skriv någon kod eller använd någon kod som du till exempel skrivit i tidigare kapitels uppgifter och implementera några test. Använd doctest- och /eller pytest-modulen"
   ]
  },
  {
   "cell_type": "code",
   "execution_count": 110,
   "id": "e3f982ae",
   "metadata": {},
   "outputs": [],
   "source": [
    "class BankAccount:\n",
    "    def __init__(self, account_holder, balance=0):\n",
    "        \"\"\"\n",
    "        Initierar en BankAccount-instans med kontoinnehavarens namn och initial balans.\n",
    "        \n",
    "        :param account_holder: Kontoinnehavarens namn\n",
    "        :param balance: Initial balans (standard är 0)\n",
    "        \"\"\"\n",
    "        self.account_holder = account_holder\n",
    "        self.balance = balance\n",
    "\n",
    "    def deposit(self, amount):\n",
    "        \"\"\"\n",
    "        Sätter in ett belopp på kontot.\n",
    "        \n",
    "        :param amount: Beloppet som ska sättas in (måste vara ett positivt tal)\n",
    "        \"\"\"\n",
    "        if amount > 0:\n",
    "            self.balance += amount\n",
    "        else:\n",
    "            raise ValueError(\"Deposit amount must be positive.\")\n",
    "\n",
    "    def withdraw(self, amount):\n",
    "        \"\"\"\n",
    "        Tar ut ett belopp från kontot om det finns tillräckligt med medel.\n",
    "        \n",
    "        :param amount: Beloppet som ska tas ut (måste vara ett positivt tal)\n",
    "        \"\"\"\n",
    "        if amount > 0:\n",
    "            if amount <= self.balance:\n",
    "                self.balance -= amount\n",
    "            else:\n",
    "                raise ValueError(\"Balance too low.\")\n",
    "        else:\n",
    "            raise ValueError(\"Withdrawal amount must be positive.\")\n",
    "    \n",
    "    def get_balance(self):\n",
    "        \"\"\"\n",
    "        Returnerar den aktuella balansen på kontot.\n",
    "        \"\"\"\n",
    "        return self.balance\n",
    "    \n",
    "    def print_summary(self):\n",
    "        \"\"\"\n",
    "        Skriver ut en sammanfattning av kontoinformationen.\n",
    "        \"\"\"\n",
    "        print(f\"Account Holder: {self.account_holder}\")\n",
    "        print(f\"Balance: {self.balance}\")\n",
    "\n",
    "    def __repr__(self):\n",
    "        return f\"BankAccount(account_holder={self.account_holder!r}, balance={self.balance})\"\n",
    "\n",
    "if __name__ == \"__main__\":\n",
    "    import doctest\n",
    "    doctest.testmod()\n"
   ]
  },
  {
   "cell_type": "code",
   "execution_count": 112,
   "id": "f45f4db7",
   "metadata": {},
   "outputs": [
    {
     "ename": "ModuleNotFoundError",
     "evalue": "No module named 'bank_module'",
     "output_type": "error",
     "traceback": [
      "\u001b[1;31m---------------------------------------------------------------------------\u001b[0m",
      "\u001b[1;31mModuleNotFoundError\u001b[0m                       Traceback (most recent call last)",
      "Cell \u001b[1;32mIn[112], line 4\u001b[0m\n\u001b[0;32m      1\u001b[0m \u001b[38;5;66;03m# test_bank_account.py\u001b[39;00m\n\u001b[0;32m      3\u001b[0m \u001b[38;5;28;01mimport\u001b[39;00m \u001b[38;5;21;01mpytest\u001b[39;00m\n\u001b[1;32m----> 4\u001b[0m \u001b[38;5;28;01mfrom\u001b[39;00m \u001b[38;5;21;01mbank_module\u001b[39;00m \u001b[38;5;28;01mimport\u001b[39;00m BankAccount  \u001b[38;5;66;03m# Importerar BankAccount-klassen från bank_module.py\u001b[39;00m\n\u001b[0;32m      6\u001b[0m \u001b[38;5;28;01mdef\u001b[39;00m \u001b[38;5;21mtest_deposit\u001b[39m():\n\u001b[0;32m      7\u001b[0m     account \u001b[38;5;241m=\u001b[39m BankAccount(\u001b[38;5;124m\"\u001b[39m\u001b[38;5;124mAlice\u001b[39m\u001b[38;5;124m\"\u001b[39m, \u001b[38;5;241m100\u001b[39m)\n",
      "\u001b[1;31mModuleNotFoundError\u001b[0m: No module named 'bank_module'"
     ]
    }
   ],
   "source": [
    "# test_bank_account.py\n",
    "\n",
    "import pytest\n",
    "from bank_module import BankAccount  # Importerar BankAccount-klassen från bank_module.py\n",
    "\n",
    "def test_deposit():\n",
    "    account = BankAccount(\"Alice\", 100)\n",
    "    account.deposit(50)\n",
    "    assert account.get_balance() == 150\n",
    "\n",
    "def test_withdraw():\n",
    "    account = BankAccount(\"Bob\", 200)\n",
    "    account.withdraw(75)\n",
    "    assert account.get_balance() == 125\n",
    "\n",
    "def test_withdraw_too_much():\n",
    "    account = BankAccount(\"Carol\", 100)\n",
    "    with pytest.raises(ValueError, match=\"Balance too low.\"):\n",
    "        account.withdraw(150)\n",
    "\n",
    "def test_negative_deposit():\n",
    "    account = BankAccount(\"Dave\", 50)\n",
    "    with pytest.raises(ValueError, match=\"Deposit amount must be positive.\"):\n",
    "        account.deposit(-20)\n",
    "\n",
    "def test_negative_withdraw():\n",
    "    account = BankAccount(\"Eve\", 75)\n",
    "    with pytest.raises(ValueError, match=\"Withdrawal amount must be positive.\"):\n",
    "        account.withdraw(-10)\n",
    "\n",
    "if __name__ == \"__main__\":\n",
    "    pytest.main()\n"
   ]
  },
  {
   "cell_type": "code",
   "execution_count": null,
   "id": "0a63ed79",
   "metadata": {},
   "outputs": [],
   "source": [
    "pytest test_bank_account.py\n"
   ]
  },
  {
   "cell_type": "code",
   "execution_count": 113,
   "id": "6f4da22e",
   "metadata": {},
   "outputs": [
    {
     "ename": "ModuleNotFoundError",
     "evalue": "No module named 'bank_module'",
     "output_type": "error",
     "traceback": [
      "\u001b[1;31m---------------------------------------------------------------------------\u001b[0m",
      "\u001b[1;31mModuleNotFoundError\u001b[0m                       Traceback (most recent call last)",
      "Cell \u001b[1;32mIn[113], line 4\u001b[0m\n\u001b[0;32m      1\u001b[0m \u001b[38;5;66;03m# test_bank_account.py\u001b[39;00m\n\u001b[0;32m      3\u001b[0m \u001b[38;5;28;01mimport\u001b[39;00m \u001b[38;5;21;01mpytest\u001b[39;00m\n\u001b[1;32m----> 4\u001b[0m \u001b[38;5;28;01mfrom\u001b[39;00m \u001b[38;5;21;01mbank_module\u001b[39;00m \u001b[38;5;28;01mimport\u001b[39;00m BankAccount  \u001b[38;5;66;03m# Importerar BankAccount-klassen från bank_module.py\u001b[39;00m\n\u001b[0;32m      6\u001b[0m \u001b[38;5;28;01mdef\u001b[39;00m \u001b[38;5;21mtest_deposit\u001b[39m():\n\u001b[0;32m      7\u001b[0m     account \u001b[38;5;241m=\u001b[39m BankAccount(\u001b[38;5;124m\"\u001b[39m\u001b[38;5;124mAlice\u001b[39m\u001b[38;5;124m\"\u001b[39m, \u001b[38;5;241m100\u001b[39m)\n",
      "\u001b[1;31mModuleNotFoundError\u001b[0m: No module named 'bank_module'"
     ]
    }
   ],
   "source": [
    "# test_bank_account.py\n",
    "\n",
    "import pytest\n",
    "from bank_module import BankAccount  # Importerar BankAccount-klassen från bank_module.py\n",
    "\n",
    "def test_deposit():\n",
    "    account = BankAccount(\"Alice\", 100)\n",
    "    account.deposit(50)\n",
    "    assert account.get_balance() == 150\n",
    "\n",
    "def test_withdraw():\n",
    "    account = BankAccount(\"Bob\", 200)\n",
    "    account.withdraw(75)\n",
    "    assert account.get_balance() == 125\n",
    "\n",
    "def test_withdraw_too_much():\n",
    "    account = BankAccount(\"Carol\", 100)\n",
    "    with pytest.raises(ValueError, match=\"Balance too low.\"):\n",
    "        account.withdraw(150)\n",
    "\n",
    "def test_negative_deposit():\n",
    "    account = BankAccount(\"Dave\", 50)\n",
    "    with pytest.raises(ValueError, match=\"Deposit amount must be positive.\"):\n",
    "        account.deposit(-20)\n",
    "\n",
    "def test_negative_withdraw():\n",
    "    account = BankAccount(\"Eve\", 75)\n",
    "    with pytest.raises(ValueError, match=\"Withdrawal amount must be positive.\"):\n",
    "        account.withdraw(-10)\n",
    "\n",
    "if __name__ == \"__main__\":\n",
    "    pytest.main()\n"
   ]
  },
  {
   "cell_type": "code",
   "execution_count": null,
   "id": "9919ffeb",
   "metadata": {},
   "outputs": [],
   "source": [
    "pytest test_bank_account.py\n"
   ]
  },
  {
   "cell_type": "code",
   "execution_count": 5,
   "id": "e41c69d0",
   "metadata": {},
   "outputs": [
    {
     "name": "stdout",
     "output_type": "stream",
     "text": [
      "Kvadraten av 5 är: 25\n",
      "Kuben av 3 är: 27\n"
     ]
    }
   ],
   "source": [
    "import min1_modul\n",
    "\n",
    "# Använd funktionerna\n",
    "kvadrat = min1_modul.square_number(5)\n",
    "kub = min1_modul.cube_number(3)\n",
    "\n",
    "print(f\"Kvadraten av 5 är: {kvadrat}\")\n",
    "print(f\"Kuben av 3 är: {kub}\")"
   ]
  },
  {
   "cell_type": "code",
   "execution_count": null,
   "id": "4818dc88",
   "metadata": {},
   "outputs": [],
   "source": []
  },
  {
   "cell_type": "code",
   "execution_count": null,
   "id": "d48f3896",
   "metadata": {},
   "outputs": [],
   "source": []
  }
 ],
 "metadata": {
  "kernelspec": {
   "display_name": "Python 3 (ipykernel)",
   "language": "python",
   "name": "python3"
  },
  "language_info": {
   "codemirror_mode": {
    "name": "ipython",
    "version": 3
   },
   "file_extension": ".py",
   "mimetype": "text/x-python",
   "name": "python",
   "nbconvert_exporter": "python",
   "pygments_lexer": "ipython3",
   "version": "3.11.4"
  }
 },
 "nbformat": 4,
 "nbformat_minor": 5
}
